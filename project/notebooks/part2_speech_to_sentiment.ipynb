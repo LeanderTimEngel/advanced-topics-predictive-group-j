{
 "cells": [
  {
   "cell_type": "code",
   "execution_count": 13,
   "metadata": {},
   "outputs": [
    {
     "name": "stdout",
     "output_type": "stream",
     "text": [
      "Using device ➜  cpu\n"
     ]
    }
   ],
   "source": [
    "# ───────────────────────── 0. Imports ─────────────────────────\n",
    "import os, re, json, pickle, warnings, time\n",
    "from pathlib import Path\n",
    "warnings.filterwarnings(\"ignore\")\n",
    "\n",
    "import numpy as np\n",
    "import pandas as pd\n",
    "import matplotlib.pyplot as plt\n",
    "import torch, whisper, soundfile as sf, librosa, librosa.display\n",
    "from IPython.display import Audio, display\n",
    "from sklearn.metrics import confusion_matrix\n",
    "\n",
    "import tensorflow as tf                       # (>=2.16 pinned in reqs)\n",
    "DEVICE = \"cuda\" if torch.cuda.is_available() else \"cpu\"\n",
    "print(f\"Using device ➜  {DEVICE}\")\n"
   ]
  },
  {
   "cell_type": "code",
   "execution_count": 14,
   "metadata": {},
   "outputs": [
    {
     "name": "stdout",
     "output_type": "stream",
     "text": [
      "Loaded 21 custom audio files from ../data/audio/custom/\n"
     ]
    },
    {
     "data": {
      "text/html": [
       "<div>\n",
       "<style scoped>\n",
       "    .dataframe tbody tr th:only-of-type {\n",
       "        vertical-align: middle;\n",
       "    }\n",
       "\n",
       "    .dataframe tbody tr th {\n",
       "        vertical-align: top;\n",
       "    }\n",
       "\n",
       "    .dataframe thead th {\n",
       "        text-align: right;\n",
       "    }\n",
       "</style>\n",
       "<table border=\"1\" class=\"dataframe\">\n",
       "  <thead>\n",
       "    <tr style=\"text-align: right;\">\n",
       "      <th></th>\n",
       "      <th>filename</th>\n",
       "      <th>emotion</th>\n",
       "      <th>speaker</th>\n",
       "      <th>gender</th>\n",
       "    </tr>\n",
       "  </thead>\n",
       "  <tbody>\n",
       "    <tr>\n",
       "      <th>0</th>\n",
       "      <td>custom-angry-A-1-Jannik.wav</td>\n",
       "      <td>angry</td>\n",
       "      <td>Jannik</td>\n",
       "      <td>male</td>\n",
       "    </tr>\n",
       "    <tr>\n",
       "      <th>1</th>\n",
       "      <td>custom-angry-A-1-paul.wav</td>\n",
       "      <td>angry</td>\n",
       "      <td>paul</td>\n",
       "      <td>male</td>\n",
       "    </tr>\n",
       "    <tr>\n",
       "      <th>2</th>\n",
       "      <td>custom-angry-A-2-Jannik.wav</td>\n",
       "      <td>angry</td>\n",
       "      <td>Jannik</td>\n",
       "      <td>male</td>\n",
       "    </tr>\n",
       "    <tr>\n",
       "      <th>3</th>\n",
       "      <td>custom-angry-B-1-Jannik.wav</td>\n",
       "      <td>angry</td>\n",
       "      <td>Jannik</td>\n",
       "      <td>male</td>\n",
       "    </tr>\n",
       "    <tr>\n",
       "      <th>4</th>\n",
       "      <td>custom-angry-B-1-paul.wav</td>\n",
       "      <td>angry</td>\n",
       "      <td>paul</td>\n",
       "      <td>male</td>\n",
       "    </tr>\n",
       "  </tbody>\n",
       "</table>\n",
       "</div>"
      ],
      "text/plain": [
       "                      filename emotion speaker gender\n",
       "0  custom-angry-A-1-Jannik.wav   angry  Jannik   male\n",
       "1    custom-angry-A-1-paul.wav   angry    paul   male\n",
       "2  custom-angry-A-2-Jannik.wav   angry  Jannik   male\n",
       "3  custom-angry-B-1-Jannik.wav   angry  Jannik   male\n",
       "4    custom-angry-B-1-paul.wav   angry    paul   male"
      ]
     },
     "metadata": {},
     "output_type": "display_data"
    }
   ],
   "source": [
    "# ─────────────────────── 1. Paths & metadata ───────────────────────\n",
    "AUDIO_DIR = \"../data/audio/custom/\"           # ← your custom folder\n",
    "MODEL_DIR = \"../models/transformer_sentiment\" # ← part-1 best model\n",
    "\n",
    "PAT = re.compile(r\"custom-([a-z]+)-[A-Z]-\\d+-(.+)\\.wav$\", re.I)\n",
    "\n",
    "def parse_custom(fname: str) -> dict:\n",
    "    m = PAT.match(fname)\n",
    "    emo, speaker = (m.group(1), m.group(2)) if m else (\"unknown\",\"unknown\")\n",
    "    return {\"filename\": fname,\n",
    "            \"emotion\":  emo.lower(),\n",
    "            \"speaker\":  speaker,\n",
    "            \"gender\":   \"male\"}   # all recordings are male for now\n",
    "\n",
    "audio_files = sorted(f for f in os.listdir(AUDIO_DIR)\n",
    "                     if f.lower().endswith(\".wav\"))\n",
    "meta_df = pd.DataFrame(parse_custom(f) for f in audio_files)\n",
    "\n",
    "print(f\"Loaded {len(meta_df)} custom audio files from {AUDIO_DIR}\")\n",
    "display(meta_df.head())"
   ]
  },
  {
   "cell_type": "code",
   "execution_count": 15,
   "metadata": {},
   "outputs": [
    {
     "name": "stdout",
     "output_type": "stream",
     "text": [
      "Loading Whisper-base …\n"
     ]
    }
   ],
   "source": [
    "# %% ─────────────────────── 2. Whisper setup ───────────────────────────\n",
    "def load_whisper(size=\"base\"):\n",
    "    print(f\"Loading Whisper-{size} …\"); return whisper.load_model(size, device=DEVICE)\n",
    "\n",
    "whisper_model = load_whisper(\"base\")\n",
    "\n",
    "def transcribe(path: Path) -> str:\n",
    "    return whisper_model.transcribe(str(path),\n",
    "                                    language=\"en\",\n",
    "                                    fp16=(DEVICE==\"cuda\"))[\"text\"]"
   ]
  },
  {
   "cell_type": "code",
   "execution_count": 16,
   "metadata": {},
   "outputs": [
    {
     "name": "stdout",
     "output_type": "stream",
     "text": [
      "Sentiment model loaded ✓  (28 labels)\n"
     ]
    }
   ],
   "source": [
    "# ─────────────────────── 3. Sentiment model wrapper ────────────────\n",
    "class CompatibleSentimentModel:\n",
    "    def __init__(self, model_dir: str):\n",
    "        p = Path(model_dir)\n",
    "        model_path = p/\"model.keras\" if (p/\"model.keras\").exists() else p/\"model.h5\"\n",
    "        self.model = tf.keras.models.load_model(model_path, compile=False)\n",
    "        self.word_index = pickle.load(open(p/\"word_index.pkl\", \"rb\"))\n",
    "        self.label_cols = json.load(open(p/\"label_cols.json\"))\n",
    "        self.max_len = json.load(open(p/\"config.json\"))[\"max_len\"]\n",
    "        thr = p/\"opt_thresholds.npy\"\n",
    "        self.thresholds = np.load(thr) if thr.exists() else None\n",
    "        print(f\"Sentiment model loaded ✓  ({len(self.label_cols)} labels)\")\n",
    "\n",
    "    def _prep(self, txt: str) -> np.ndarray:\n",
    "        clean = re.sub(r\"<.*?>\", \"\", txt.lower())\n",
    "        clean = re.sub(r\"[^a-z0-9\\s]\", \"\", clean)\n",
    "        ids   = [self.word_index.get(tok, 1) for tok in clean.split()]\n",
    "        ids   = (ids[:self.max_len] + [0]*self.max_len)[:self.max_len]\n",
    "        return np.array([ids], dtype=np.int16)\n",
    "\n",
    "    def predict(self, text: str, top_k=3):\n",
    "        scores = self.model.predict(self._prep(text), verbose=0)[0]\n",
    "        top = sorted(zip(self.label_cols, map(float, scores)),\n",
    "                     key=lambda x: x[1], reverse=True)[:top_k]\n",
    "        if self.thresholds is not None:\n",
    "            above = [(lbl,s) for lbl,s,t in zip(self.label_cols,scores,self.thresholds) if s>=t]\n",
    "        else:\n",
    "            above = [(lbl,s) for lbl,s in zip(self.label_cols,scores) if s>=0.5]\n",
    "        return {\"top\": top, \"above\": above, \"raw\": dict(zip(self.label_cols, map(float,scores)))}\n",
    "\n",
    "sent_model = CompatibleSentimentModel(MODEL_DIR)"
   ]
  },
  {
   "cell_type": "code",
   "execution_count": 17,
   "metadata": {},
   "outputs": [],
   "source": [
    "# ─────────────────────── 4. End-to-end pipeline ─────────────────────\n",
    "def speech_to_sentiment(path: Path):\n",
    "    txt   = transcribe(path)\n",
    "    senti = sent_model.predict(txt)\n",
    "    return {\"file\": path.name, \"text\": txt, \"top\": senti[\"top\"]}\n",
    "\n",
    "results = [speech_to_sentiment(Path(AUDIO_DIR)/f) for f in audio_files]\n",
    "\n",
    "res_df = pd.DataFrame({\n",
    "    \"filename\":        [r[\"file\"]        for r in results],\n",
    "    \"transcribed_text\":[r[\"text\"]        for r in results],\n",
    "    \"top_emotion\":     [r[\"top\"][0][0]   for r in results],\n",
    "    \"top_score\":       [r[\"top\"][0][1]   for r in results],\n",
    "}).merge(meta_df, on=\"filename\")\n",
    "\n",
    "# add empty WER (no reference sentence available for custom clips)\n",
    "res_df[\"wer\"] = np.nan"
   ]
  },
  {
   "cell_type": "code",
   "execution_count": 18,
   "metadata": {},
   "outputs": [
    {
     "name": "stdout",
     "output_type": "stream",
     "text": [
      "Top-1 emotion accuracy: 0.667\n",
      "Top-3 emotion accuracy: 0.905\n",
      "\n",
      "ANGRY  →  ['anger:0.80', 'annoyance:0.26', 'disgust:0.08', 'disapproval:0.04', 'disappointment:0.03']\n",
      "\n",
      "HAPPY  →  ['joy:0.60', 'excitement:0.20', 'gratitude:0.07', 'admiration:0.05', 'love:0.04']\n",
      "\n",
      "NEUTRAL  →  ['neutral:0.19', 'excitement:0.18', 'approval:0.10', 'curiosity:0.08', 'amusement:0.08']\n",
      "\n",
      "SAD  →  ['sadness:0.79', 'disappointment:0.31', 'remorse:0.02', 'neutral:0.02', 'grief:0.01']\n"
     ]
    }
   ],
   "source": [
    "# ─────────────────────── 5. Accuracy & inspection ───────────────────\n",
    "MAP = {\"neutral\":\"neutral\", \"happy\":\"joy\", \"sad\":\"sadness\", \"angry\":\"anger\"}\n",
    "res_df[\"mapped_emotion\"] = res_df[\"emotion\"].map(MAP)\n",
    "res_df[\"match\"] = res_df[\"top_emotion\"] == res_df[\"mapped_emotion\"]\n",
    "print(\"Top-1 emotion accuracy:\", res_df[\"match\"].mean().round(3))\n",
    "\n",
    "# Top-3 hit\n",
    "res_df[\"match_top3\"] = res_df.apply(\n",
    "    lambda r: r[\"mapped_emotion\"] in\n",
    "              [e for e,_ in sent_model.predict(r[\"transcribed_text\"], top_k=3)[\"top\"]],\n",
    "    axis=1\n",
    ")\n",
    "print(\"Top-3 emotion accuracy:\", res_df[\"match_top3\"].mean().round(3))\n",
    "\n",
    "# peek logits for one sample of each emotion\n",
    "for emo in sorted(res_df[\"emotion\"].unique()):\n",
    "    txt = res_df.query(\"emotion == @emo\").iloc[0][\"transcribed_text\"]\n",
    "    raw = sent_model.predict(txt)[\"raw\"]\n",
    "    print(f\"\\n{emo.upper()}  →  {[f'{k}:{v:.2f}' for k,v in sorted(raw.items(), key=lambda x:-x[1])[:5]]}\")"
   ]
  },
  {
   "cell_type": "code",
   "execution_count": 19,
   "metadata": {},
   "outputs": [
    {
     "data": {
      "image/png": "[encoded data removed]",
      "text/plain": [
       "<Figure size 500x400 with 2 Axes>"
      ]
     },
     "metadata": {},
     "output_type": "display_data"
    }
   ],
   "source": [
    "# ─────────────────────── 6. Confusion matrix ────────────────────────\n",
    "labels = sorted(res_df[\"mapped_emotion\"].unique())\n",
    "cm = confusion_matrix(res_df[\"mapped_emotion\"], res_df[\"top_emotion\"], labels=labels)\n",
    "plt.figure(figsize=(5,4))\n",
    "plt.imshow(cm, cmap=\"Blues\"); plt.colorbar()\n",
    "plt.xticks(range(len(labels)), labels, rotation=45)\n",
    "plt.yticks(range(len(labels)), labels)\n",
    "for (i,j),v in np.ndenumerate(cm):\n",
    "    plt.text(j,i,v,ha=\"center\",va=\"center\")\n",
    "plt.title(\"Emotion confusion\"); plt.tight_layout(); plt.show()"
   ]
  },
  {
   "cell_type": "code",
   "execution_count": 20,
   "metadata": {},
   "outputs": [
    {
     "data": {
      "image/png": "[encoded data removed]",
      "text/plain": [
       "<Figure size 600x400 with 1 Axes>"
      ]
     },
     "metadata": {},
     "output_type": "display_data"
    }
   ],
   "source": [
    "# ─────────────────────── 7. Breakdown plots ─────────────────────────\n",
    "by_emotion = res_df.groupby(\"emotion\").match.mean()\n",
    "plt.figure(figsize=(6,4))\n",
    "plt.bar(by_emotion.index, by_emotion.values)\n",
    "plt.ylim(0,1); plt.ylabel(\"accuracy\"); plt.title(\"Accuracy by emotion\")\n",
    "for i,v in enumerate(by_emotion):\n",
    "    plt.text(i,v+0.02,f\"{v:.2f}\",ha=\"center\")\n",
    "plt.tight_layout(); plt.show()"
   ]
  }
 ],
 "metadata": {
  "kernelspec": {
   "display_name": "venv",
   "language": "python",
   "name": "python3"
  },
  "language_info": {
   "codemirror_mode": {
    "name": "ipython",
    "version": 3
   },
   "file_extension": ".py",
   "mimetype": "text/x-python",
   "name": "python",
   "nbconvert_exporter": "python",
   "pygments_lexer": "ipython3",
   "version": "3.9.6"
  }
 },
 "nbformat": 4,
 "nbformat_minor": 2
}
