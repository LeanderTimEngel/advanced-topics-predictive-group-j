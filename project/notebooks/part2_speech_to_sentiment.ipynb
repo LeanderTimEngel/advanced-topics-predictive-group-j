{
 "cells": [
  {
   "cell_type": "code",
   "execution_count": 26,
   "metadata": {},
   "outputs": [
    {
     "name": "stdout",
     "output_type": "stream",
     "text": [
      "Using device: cpu\n"
     ]
    }
   ],
   "source": [
    "# ───────────────────────── 0. Imports ─────────────────────────\n",
    "import os, time, re, json, pickle, warnings\n",
    "from pathlib import Path\n",
    "warnings.filterwarnings(\"ignore\")\n",
    "\n",
    "import numpy as np\n",
    "import pandas as pd\n",
    "import matplotlib.pyplot as plt\n",
    "import torch\n",
    "import whisper\n",
    "import soundfile as sf\n",
    "import librosa, librosa.display\n",
    "from IPython.display import Audio, display\n",
    "from sklearn.metrics import confusion_matrix\n",
    "\n",
    "# Check GPU / device\n",
    "DEVICE = \"cuda\" if torch.cuda.is_available() else \"cpu\"\n",
    "print(f\"Using device: {DEVICE}\")"
   ]
  },
  {
   "cell_type": "code",
   "execution_count": 27,
   "metadata": {},
   "outputs": [],
   "source": [
    "# ───────────────────────── 1. Paths & constants ───────────────\n",
    "AUDIO_DIR = \"../data/audio/samples/\"\n",
    "MODEL_DIR = \"../models/transformer_sentiment\"      # Part-1 sentiment model\n",
    "\n",
    "RAVDESS_EMOTIONS = {\"01\": \"neutral\", \"03\": \"happy\", \"04\": \"sad\", \"05\": \"angry\"}"
   ]
  },
  {
   "cell_type": "code",
   "execution_count": 28,
   "metadata": {},
   "outputs": [
    {
     "name": "stdout",
     "output_type": "stream",
     "text": [
      "Custom SentModel import OK\n"
     ]
    }
   ],
   "source": [
    "# ───────────────────────── 2. Optional debug import ───────────\n",
    "try:\n",
    "    from SentimentInferenceModel import SentimentInferenceModel as SentModel\n",
    "    print(\"Custom SentModel import OK\")\n",
    "except ModuleNotFoundError:\n",
    "    SentModel = None"
   ]
  },
  {
   "cell_type": "code",
   "execution_count": 29,
   "metadata": {},
   "outputs": [
    {
     "name": "stdout",
     "output_type": "stream",
     "text": [
      "Loaded 336 audio files\n"
     ]
    },
    {
     "data": {
      "text/html": [
       "<div>\n",
       "<style scoped>\n",
       "    .dataframe tbody tr th:only-of-type {\n",
       "        vertical-align: middle;\n",
       "    }\n",
       "\n",
       "    .dataframe tbody tr th {\n",
       "        vertical-align: top;\n",
       "    }\n",
       "\n",
       "    .dataframe thead th {\n",
       "        text-align: right;\n",
       "    }\n",
       "</style>\n",
       "<table border=\"1\" class=\"dataframe\">\n",
       "  <thead>\n",
       "    <tr style=\"text-align: right;\">\n",
       "      <th></th>\n",
       "      <th>filename</th>\n",
       "      <th>emotion_code</th>\n",
       "      <th>emotion</th>\n",
       "      <th>actor</th>\n",
       "      <th>gender</th>\n",
       "    </tr>\n",
       "  </thead>\n",
       "  <tbody>\n",
       "    <tr>\n",
       "      <th>0</th>\n",
       "      <td>03-01-01-01-01-01-01.wav</td>\n",
       "      <td>01</td>\n",
       "      <td>neutral</td>\n",
       "      <td>01</td>\n",
       "      <td>male</td>\n",
       "    </tr>\n",
       "    <tr>\n",
       "      <th>1</th>\n",
       "      <td>03-01-01-01-01-01-02.wav</td>\n",
       "      <td>01</td>\n",
       "      <td>neutral</td>\n",
       "      <td>02</td>\n",
       "      <td>male</td>\n",
       "    </tr>\n",
       "    <tr>\n",
       "      <th>2</th>\n",
       "      <td>03-01-01-01-01-01-03.wav</td>\n",
       "      <td>01</td>\n",
       "      <td>neutral</td>\n",
       "      <td>03</td>\n",
       "      <td>male</td>\n",
       "    </tr>\n",
       "    <tr>\n",
       "      <th>3</th>\n",
       "      <td>03-01-01-01-01-01-04.wav</td>\n",
       "      <td>01</td>\n",
       "      <td>neutral</td>\n",
       "      <td>04</td>\n",
       "      <td>male</td>\n",
       "    </tr>\n",
       "    <tr>\n",
       "      <th>4</th>\n",
       "      <td>03-01-01-01-01-01-05.wav</td>\n",
       "      <td>01</td>\n",
       "      <td>neutral</td>\n",
       "      <td>05</td>\n",
       "      <td>male</td>\n",
       "    </tr>\n",
       "  </tbody>\n",
       "</table>\n",
       "</div>"
      ],
      "text/plain": [
       "                   filename emotion_code  emotion actor gender\n",
       "0  03-01-01-01-01-01-01.wav           01  neutral    01   male\n",
       "1  03-01-01-01-01-01-02.wav           01  neutral    02   male\n",
       "2  03-01-01-01-01-01-03.wav           01  neutral    03   male\n",
       "3  03-01-01-01-01-01-04.wav           01  neutral    04   male\n",
       "4  03-01-01-01-01-01-05.wav           01  neutral    05   male"
      ]
     },
     "metadata": {},
     "output_type": "display_data"
    }
   ],
   "source": [
    "#  ───────────────────────── 3. Audio metadata ──────────────────\n",
    "def parse_ravdess_filename(fname: str) -> dict:\n",
    "    parts = fname.split(\".\")[0].split(\"-\")\n",
    "    emotion_code, actor_code = parts[2], parts[6]\n",
    "    actor_num = int(actor_code)\n",
    "    return {\n",
    "        \"filename\": fname,\n",
    "        \"emotion_code\": emotion_code,\n",
    "        \"emotion\": RAVDESS_EMOTIONS.get(emotion_code, \"unknown\"),\n",
    "        \"actor\": actor_code,\n",
    "        \"gender\": \"male\" if actor_num <= 12 else \"female\",\n",
    "    }\n",
    "\n",
    "audio_files = sorted(f for f in os.listdir(AUDIO_DIR) if f.endswith(\".wav\"))\n",
    "meta_df = pd.DataFrame(parse_ravdess_filename(f) for f in audio_files)\n",
    "print(f\"Loaded {len(meta_df)} audio files\"); display(meta_df.head())"
   ]
  },
  {
   "cell_type": "code",
   "execution_count": 30,
   "metadata": {},
   "outputs": [
    {
     "name": "stdout",
     "output_type": "stream",
     "text": [
      "Loading Whisper-base …\n"
     ]
    }
   ],
   "source": [
    "# ───────────────────────── 3. Whisper setup & transcribe ──────\n",
    "def load_whisper(size=\"base\"):\n",
    "    print(f\"Loading Whisper-{size} …\")\n",
    "    return whisper.load_model(size, device=DEVICE)\n",
    "\n",
    "whisper_model = load_whisper(\"base\")\n",
    "\n",
    "def transcribe(path):\n",
    "    # Whisper needs str or ndarray\n",
    "    path = str(path)\n",
    "    return whisper_model.transcribe(\n",
    "        path,\n",
    "        language=\"en\",\n",
    "        fp16=(DEVICE == \"cuda\")\n",
    "    )[\"text\"]"
   ]
  },
  {
   "cell_type": "code",
   "execution_count": 31,
   "metadata": {},
   "outputs": [
    {
     "name": "stdout",
     "output_type": "stream",
     "text": [
      "Sentiment model loaded with 28 labels\n"
     ]
    }
   ],
   "source": [
    "# %% ───────────────────────── 4. Sentiment model wrapper ─────────\n",
    "import tensorflow as tf  # pin >=2.16 in requirements\n",
    "\n",
    "class CompatibleSentimentModel:\n",
    "    def __init__(self, model_dir: str):\n",
    "        p = Path(model_dir)\n",
    "        if (p / \"model.keras\").exists():\n",
    "            self.model = tf.keras.models.load_model(p / \"model.keras\", compile=False)\n",
    "        elif (p / \"model.h5\").exists():\n",
    "            self.model = tf.keras.models.load_model(p / \"model.h5\", compile=False)\n",
    "        else:\n",
    "            raise FileNotFoundError(\"No model file found\")\n",
    "        # aux files\n",
    "        self.word_index = pickle.load(open(p / \"word_index.pkl\", \"rb\"))\n",
    "        self.label_cols = json.load(open(p / \"label_cols.json\"))\n",
    "        self.max_len    = json.load(open(p / \"config.json\"))[\"max_len\"]\n",
    "        thr = p / \"opt_thresholds.npy\"\n",
    "        self.thresholds = np.load(thr) if thr.exists() else None\n",
    "        print(f\"Sentiment model loaded with {len(self.label_cols)} labels\")\n",
    "\n",
    "    # text → ids\n",
    "    def _prep(self, txt):\n",
    "        clean = re.sub(r\"<.*?>\", \"\", txt.lower())\n",
    "        clean = re.sub(r\"[^a-z0-9\\s]\", \"\", clean)\n",
    "        clean = re.sub(r\"\\s+\", \" \", clean).strip()\n",
    "        ids = [self.word_index.get(tok, 1) for tok in clean.split()]\n",
    "        ids = (ids[: self.max_len] + [0] * self.max_len)[: self.max_len]\n",
    "        return np.array([ids], dtype=np.int16)\n",
    "\n",
    "    def predict(self, text, top_k=3):\n",
    "        scores = self.model.predict(self._prep(text), verbose=0)[0]\n",
    "        if self.thresholds is not None:\n",
    "            above = [(lbl, float(s)) for lbl, s, t in zip(self.label_cols, scores, self.thresholds) if s >= t]\n",
    "        else:\n",
    "            above = [(lbl, float(s)) for lbl, s in zip(self.label_cols, scores) if s >= 0.5]\n",
    "        top = sorted(zip(self.label_cols, map(float, scores)), key=lambda x: x[1], reverse=True)[:top_k]\n",
    "        return {\"raw\": dict(zip(self.label_cols, map(float, scores))),\n",
    "                \"above\": above,\n",
    "                \"top\": top}\n",
    "\n",
    "sent_model = CompatibleSentimentModel(MODEL_DIR)\n",
    "sent_model.thresholds = None "
   ]
  },
  {
   "cell_type": "code",
   "execution_count": 32,
   "metadata": {},
   "outputs": [],
   "source": [
    "# %% ───────────────────────── 5. End-to-end pipeline ─────────────\n",
    "def speech_to_sentiment(path: str):\n",
    "    txt = transcribe(path)\n",
    "    senti = sent_model.predict(txt)\n",
    "    return {\"file\": Path(path).name, \"text\": txt, \"top\": senti[\"top\"]}\n",
    "\n",
    "results = [speech_to_sentiment(Path(AUDIO_DIR) / f) for f in audio_files]\n",
    "\n",
    "res_df = pd.DataFrame({\n",
    "    \"filename\": [r[\"file\"] for r in results],\n",
    "    \"transcribed_text\": [r[\"text\"] for r in results],\n",
    "    \"top_emotion\": [r[\"top\"][0][0] for r in results],\n",
    "    \"top_score\":   [r[\"top\"][0][1] for r in results],\n",
    "}).merge(meta_df, on=\"filename\")"
   ]
  },
  {
   "cell_type": "code",
   "execution_count": 37,
   "metadata": {},
   "outputs": [
    {
     "name": "stdout",
     "output_type": "stream",
     "text": [
      "Average WER: 0.0322\n"
     ]
    }
   ],
   "source": [
    "# %% ───────────────────────── 6. Build statement-aware reference texts ──\n",
    "# RAVDESS has two sentences:\n",
    "STATEMENT_TEXT = {\n",
    "    \"01\": \"Kids are talking by the door.\",\n",
    "    \"02\": \"Dogs are sitting by the door.\"\n",
    "}\n",
    "\n",
    "def statement_id(fname: str) -> str:\n",
    "    \"\"\"Return 01 or 02 (5th field in file name).\"\"\"\n",
    "    return fname.split(\"-\")[4]\n",
    "\n",
    "# Choose the correct reference sentence for each file\n",
    "res_df[\"reference_text\"] = res_df[\"filename\"].apply(\n",
    "    lambda f: STATEMENT_TEXT.get(statement_id(f), STATEMENT_TEXT[\"01\"])\n",
    ")\n",
    "\n",
    "# --- Word-Error-Rate helper -------------------------------------\n",
    "def wer(ref: str, hyp: str) -> float:\n",
    "    r, h = ref.lower().split(), hyp.lower().split()\n",
    "    n, m = len(r), len(h)\n",
    "    dp = list(range(n + 1))\n",
    "    for j in range(1, m + 1):\n",
    "        prev, dp = dp, [j] + [0] * n\n",
    "        for i in range(1, n + 1):\n",
    "            cost = 0 if r[i - 1] == h[j - 1] else 1\n",
    "            dp[i] = min(dp[i - 1] + 1, prev[i] + 1, prev[i - 1] + cost)\n",
    "    return dp[n] / max(n, 1)\n",
    "\n",
    "# Compute WER row-wise\n",
    "res_df[\"wer\"] = res_df.apply(\n",
    "    lambda r: wer(r[\"reference_text\"], r[\"transcribed_text\"]),\n",
    "    axis=1\n",
    ")\n",
    "print(\"Average WER:\", res_df[\"wer\"].mean().round(4))"
   ]
  },
  {
   "cell_type": "code",
   "execution_count": 38,
   "metadata": {},
   "outputs": [
    {
     "name": "stdout",
     "output_type": "stream",
     "text": [
      "Emotion accuracy: 0.0714\n"
     ]
    }
   ],
   "source": [
    "# %% ───────────────────────── 7. Map RAVDESS → sentiment classes ─\n",
    "MAP = {\"neutral\": \"neutral\", \"happy\": \"joy\", \"sad\": \"sadness\", \"angry\": \"anger\"}\n",
    "res_df[\"mapped_emotion\"] = res_df[\"emotion\"].map(MAP)\n",
    "res_df[\"match\"] = res_df[\"top_emotion\"] == res_df[\"mapped_emotion\"]\n",
    "emotion_acc = res_df[\"match\"].mean()\n",
    "print(\"Emotion accuracy:\", emotion_acc.round(4))\n",
    "\n",
    "# -----------------------------------------------------------\n",
    "# Quick-win #2  –  Top-3 accuracy\n",
    "res_df[\"match_top3\"] = res_df.apply(\n",
    "    lambda r: r[\"mapped_emotion\"] in\n",
    "              [e for e, _ in sent_model.predict(r[\"transcribed_text\"],\n",
    "                                                top_k=3)[\"top\"]],\n",
    "    axis=1\n",
    ")\n",
    "print(\"Top-3 accuracy:\", res_df[\"match_top3\"].mean().round(3))\n",
    "\n",
    "# -----------------------------------------------------------\n",
    "# Quick-win #3  –  Inspect logits to see which labels fire\n",
    "for emo in [\"angry\", \"happy\", \"sad\", \"neutral\"]:\n",
    "    txt = res_df.query(\"emotion == @emo\").iloc[0][\"transcribed_text\"]\n",
    "    raw = sent_model.predict(txt)[\"raw\"]\n",
    "    top = sorted(raw.items(), key=lambda x: x[1], reverse=True)[:5]\n",
    "    print(f\"\\n{emo.upper()}  →  top logits:\", top)\n"
   ]
  },
  {
   "cell_type": "code",
   "execution_count": 39,
   "metadata": {},
   "outputs": [
    {
     "data": {
      "image/png": "[encoded data removed]",
      "text/plain": [
       "<Figure size 600x500 with 2 Axes>"
      ]
     },
     "metadata": {},
     "output_type": "display_data"
    }
   ],
   "source": [
    "# %% ───────────────────────── 8. Confusion matrix ────────────────\n",
    "labels = sorted(res_df[\"mapped_emotion\"].unique())\n",
    "cm = confusion_matrix(res_df[\"mapped_emotion\"], res_df[\"top_emotion\"], labels=labels)\n",
    "\n",
    "plt.figure(figsize=(6,5))\n",
    "plt.imshow(cm, cmap=\"Blues\"); plt.colorbar()\n",
    "plt.xticks(range(len(labels)), labels, rotation=45)\n",
    "plt.yticks(range(len(labels)), labels)\n",
    "plt.xlabel(\"Predicted\"); plt.ylabel(\"True\"); plt.title(\"Emotion Confusion Matrix\")\n",
    "for (i,j), v in np.ndenumerate(cm):\n",
    "    plt.text(j, i, str(v), ha=\"center\", va=\"center\")\n",
    "plt.tight_layout(); plt.show()"
   ]
  },
  {
   "cell_type": "code",
   "execution_count": 40,
   "metadata": {},
   "outputs": [
    {
     "data": {
      "image/png": "[encoded data removed]",
      "text/plain": [
       "<Figure size 800x500 with 1 Axes>"
      ]
     },
     "metadata": {},
     "output_type": "display_data"
    },
    {
     "data": {
      "image/png": "[encoded data removed]",
      "text/plain": [
       "<Figure size 800x500 with 1 Axes>"
      ]
     },
     "metadata": {},
     "output_type": "display_data"
    }
   ],
   "source": [
    "# %% ───────────────────────── 9. Gender & emotion breakdown ──────\n",
    "by_gender  = res_df.groupby(\"gender\").agg(acc=(\"match\",\"mean\"), wer=(\"wer\",\"mean\"))\n",
    "by_emotion = res_df.groupby(\"emotion\").agg(acc=(\"match\",\"mean\"), wer=(\"wer\",\"mean\"))\n",
    "\n",
    "def bar(df, title, col=\"acc\"):\n",
    "    plt.figure(figsize=(8,5))\n",
    "    x = np.arange(len(df))\n",
    "    plt.bar(x, df[col], 0.6)\n",
    "    plt.xticks(x, df.index, rotation=45)\n",
    "    plt.ylim(0,1); plt.ylabel(col); plt.title(title)\n",
    "    for i,v in enumerate(df[col]): plt.text(i, v+0.02, f\"{v:.2f}\", ha=\"center\")\n",
    "    plt.tight_layout(); plt.show()\n",
    "\n",
    "bar(by_gender, \"Emotion accuracy by gender\")\n",
    "bar(by_emotion, \"Emotion accuracy by emotion\")"
   ]
  }
 ],
 "metadata": {
  "kernelspec": {
   "display_name": "venv",
   "language": "python",
   "name": "python3"
  },
  "language_info": {
   "codemirror_mode": {
    "name": "ipython",
    "version": 3
   },
   "file_extension": ".py",
   "mimetype": "text/x-python",
   "name": "python",
   "nbconvert_exporter": "python",
   "pygments_lexer": "ipython3",
   "version": "3.9.6"
  }
 },
 "nbformat": 4,
 "nbformat_minor": 2
}
