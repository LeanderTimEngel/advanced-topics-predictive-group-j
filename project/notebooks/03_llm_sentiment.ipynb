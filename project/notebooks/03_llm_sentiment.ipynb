{
 "cells": [
  {
   "cell_type": "code",
   "execution_count": 39,
   "metadata": {},
   "outputs": [],
   "source": [
    "#  ───────────────────────── 0. Imports & setup ─────────────────────────\n",
    "import os, json, time, warnings, math, pandas as pd\n",
    "from pathlib import Path\n",
    "from datetime import datetime\n",
    "warnings.filterwarnings(\"ignore\")\n",
    "\n",
    "from langchain.chat_models import ChatOpenAI\n",
    "from langchain.prompts import PromptTemplate\n",
    "from langchain.schema import HumanMessage, SystemMessage\n",
    "from sklearn.metrics import f1_score, confusion_matrix\n",
    "import matplotlib.pyplot as plt\n",
    "import numpy as np\n",
    "import tiktoken                                    \n",
    "from dotenv import load_dotenv\n",
    "\n",
    "# ——— API / model ----------------------------------------------------------\n",
    "load_dotenv()\n",
    "LLM_NAME = \"gpt-4o-mini\"\n",
    "API_KEY  = os.getenv(\"OPENAI_API_KEY\")\n",
    "\n",
    "llm = ChatOpenAI(model_name=LLM_NAME,\n",
    "                 temperature=0.0,\n",
    "                 max_tokens=128)                   # plenty for 2-field JSON\n",
    "\n",
    "enc = tiktoken.encoding_for_model(LLM_NAME)       # cost accounting helper\n",
    "PRICE_PER_1K = 0.0005                             # $ for gpt-4o-mini 2025-05"
   ]
  },
  {
   "cell_type": "code",
   "execution_count": 40,
   "metadata": {},
   "outputs": [
    {
     "name": "stdout",
     "output_type": "stream",
     "text": [
      "29 samples loaded from Part-2 results\n"
     ]
    }
   ],
   "source": [
    "#  ───────────────────────── 1. Load Part-2 transcripts ─────────────────\n",
    "df = pd.read_csv(\"../results/whisper_transcripts.csv\")   # filename, transcribed_text, emotion\n",
    "texts = df[\"transcribed_text\"].tolist()\n",
    "true_emotions = df[\"emotion\"]\n",
    "print(f\"{len(df)} samples loaded from Part-2 results\")\n",
    "\n",
    "# %% ───────────────────────── 2. Prompt template ─────────────────────────\n",
    "PROMPT = \"\"\"\n",
    "You are a precise sentiment classifier.\n",
    "\n",
    "Return **only** a valid JSON object with two keys:\n",
    "  \"sentiment\": _exactly one of_ [`positive`, `negative`, `neutral`]\n",
    "  \"emotion\"  : _exactly one of_ [`joy`, `sad`, `anger`,\n",
    "                                 `fear`, `surprise`, `disgust`, `neutral`]\n",
    "\n",
    "Do **not** output anything except the JSON.\n",
    "\n",
    "Text: {text}\n",
    "JSON:\n",
    "\"\"\"\n",
    "template = PromptTemplate.from_template(PROMPT)\n",
    "\n",
    "SYS_MSG = SystemMessage(\n",
    "    content=\"You are a JSON-only classifier.  If unsure, output neutral.\"\n",
    ")"
   ]
  },
  {
   "cell_type": "code",
   "execution_count": 41,
   "metadata": {},
   "outputs": [],
   "source": [
    "# %% ───────────────────────── 3. LLM call helper (retry & trim) ──────────\n",
    "def call_llm(text: str, max_chars: int = 400, tries: int = 3) -> str:\n",
    "    \"\"\"Send trimmed text to the LLM, return raw response (JSON string).\"\"\"\n",
    "    short = text[:max_chars]\n",
    "    msg   = HumanMessage(content=template.format(text=short))\n",
    "    for attempt in range(tries):\n",
    "        try:\n",
    "            return llm([SYS_MSG, msg]).content\n",
    "        except Exception as e:\n",
    "            if attempt == tries - 1:\n",
    "                raise\n",
    "            time.sleep(2)    "
   ]
  },
  {
   "cell_type": "code",
   "execution_count": 42,
   "metadata": {},
   "outputs": [
    {
     "name": "stdout",
     "output_type": "stream",
     "text": [
      "Loaded cached LLM outputs\n"
     ]
    }
   ],
   "source": [
    "# ───────────────────────── 4. Batch inference w/ cache ───────────────\n",
    "CACHE = Path(\"../results/llm_outputs.json\")\n",
    "if CACHE.exists():\n",
    "    outputs = json.load(CACHE.open())\n",
    "    print(\"Loaded cached LLM outputs\")\n",
    "else:\n",
    "    print(\"Calling the LLM …\")\n",
    "    outputs = [call_llm(t) for t in texts]\n",
    "    json.dump(outputs, CACHE.open(\"w\"))\n",
    "    print(\"Responses cached for future runs\")"
   ]
  },
  {
   "cell_type": "code",
   "execution_count": 43,
   "metadata": {},
   "outputs": [],
   "source": [
    "# ───────────────────────── 5. Parse & harmonise labels ───────────────\n",
    "VALID = {\"joy\",\"sad\",\"anger\",\"fear\",\"surprise\",\"disgust\",\"neutral\"}\n",
    "MAP_LLM = {\"sadness\": \"sad\"}            # if model sometimes says “sadness”\n",
    "\n",
    "def parse_out(s: str) -> str:\n",
    "    try:\n",
    "        obj = json.loads(s)\n",
    "        lab = MAP_LLM.get(obj[\"emotion\"], obj[\"emotion\"])\n",
    "        return lab if lab in VALID else \"neutral\"\n",
    "    except Exception:\n",
    "        return \"neutral\"\n",
    "\n",
    "pred_emotions = [parse_out(o) for o in outputs]\n",
    "df[\"llm_emotion\"] = pred_emotions"
   ]
  },
  {
   "cell_type": "code",
   "execution_count": 44,
   "metadata": {},
   "outputs": [
    {
     "name": "stdout",
     "output_type": "stream",
     "text": [
      "LLM macro-F1: 0.322\n"
     ]
    },
    {
     "data": {
      "image/png": "[encoded data removed]",
      "text/plain": [
       "<Figure size 500x400 with 2 Axes>"
      ]
     },
     "metadata": {},
     "output_type": "display_data"
    }
   ],
   "source": [
    "# ───────────────────────── 6. Evaluation & plots ─────────────────────\n",
    "macro = f1_score(true_emotions, pred_emotions,\n",
    "                 average=\"macro\", zero_division=0)\n",
    "print(\"LLM macro-F1:\", round(macro, 3))\n",
    "\n",
    "labels = sorted(set(true_emotions) | set(pred_emotions))\n",
    "cm = confusion_matrix(true_emotions, pred_emotions, labels=labels)\n",
    "\n",
    "plt.figure(figsize=(5,4))\n",
    "plt.imshow(cm, cmap=\"Blues\"); plt.colorbar()\n",
    "plt.xticks(range(len(labels)), labels, rotation=45)\n",
    "plt.yticks(range(len(labels)), labels)\n",
    "for (i,j),v in np.ndenumerate(cm):\n",
    "    plt.text(j,i,v,ha=\"center\",va=\"center\")\n",
    "plt.title(\"LLM emotion confusion\"); plt.tight_layout(); plt.show()\n",
    "\n",
    "# save per-sample metrics\n",
    "run_id = datetime.utcnow().strftime(\"%Y%m%dT%H%M%S\")\n",
    "df.to_csv(f\"../results/llm_metrics_{run_id}.csv\", index=False)"
   ]
  },
  {
   "cell_type": "code",
   "execution_count": 45,
   "metadata": {},
   "outputs": [
    {
     "name": "stdout",
     "output_type": "stream",
     "text": [
      "Exact token usage: 513  ➜  $0.0003\n"
     ]
    }
   ],
   "source": [
    "# ───────────────────────── 7. Exact cost estimate ────────────────────\n",
    "tot_tokens = sum(len(enc.encode(r)) for r in outputs)\n",
    "cost = tot_tokens / 1000 * PRICE_PER_1K\n",
    "print(f\"Exact token usage: {tot_tokens:,}  ➜  ${cost:.4f}\")\n",
    "with open(\"../results/cost_estimate.txt\",\"w\") as f:\n",
    "    f.write(f\"{cost:.4f}\\n\")"
   ]
  },
  {
   "cell_type": "code",
   "execution_count": null,
   "metadata": {},
   "outputs": [
    {
     "ename": "KeyError",
     "evalue": "'match'",
     "output_type": "error",
     "traceback": [
      "\u001b[0;31m---------------------------------------------------------------------------\u001b[0m",
      "\u001b[0;31mKeyError\u001b[0m                                  Traceback (most recent call last)",
      "File \u001b[0;32m~/Desktop/advanced pa/advanced-topics-predictive-group-j/venv/lib/python3.9/site-packages/pandas/core/indexes/base.py:3805\u001b[0m, in \u001b[0;36mIndex.get_loc\u001b[0;34m(self, key)\u001b[0m\n\u001b[1;32m   3804\u001b[0m \u001b[38;5;28;01mtry\u001b[39;00m:\n\u001b[0;32m-> 3805\u001b[0m     \u001b[38;5;28;01mreturn\u001b[39;00m \u001b[38;5;28;43mself\u001b[39;49m\u001b[38;5;241;43m.\u001b[39;49m\u001b[43m_engine\u001b[49m\u001b[38;5;241;43m.\u001b[39;49m\u001b[43mget_loc\u001b[49m\u001b[43m(\u001b[49m\u001b[43mcasted_key\u001b[49m\u001b[43m)\u001b[49m\n\u001b[1;32m   3806\u001b[0m \u001b[38;5;28;01mexcept\u001b[39;00m \u001b[38;5;167;01mKeyError\u001b[39;00m \u001b[38;5;28;01mas\u001b[39;00m err:\n",
      "File \u001b[0;32mindex.pyx:167\u001b[0m, in \u001b[0;36mpandas._libs.index.IndexEngine.get_loc\u001b[0;34m()\u001b[0m\n",
      "File \u001b[0;32mindex.pyx:196\u001b[0m, in \u001b[0;36mpandas._libs.index.IndexEngine.get_loc\u001b[0;34m()\u001b[0m\n",
      "File \u001b[0;32mpandas/_libs/hashtable_class_helper.pxi:7081\u001b[0m, in \u001b[0;36mpandas._libs.hashtable.PyObjectHashTable.get_item\u001b[0;34m()\u001b[0m\n",
      "File \u001b[0;32mpandas/_libs/hashtable_class_helper.pxi:7089\u001b[0m, in \u001b[0;36mpandas._libs.hashtable.PyObjectHashTable.get_item\u001b[0;34m()\u001b[0m\n",
      "\u001b[0;31mKeyError\u001b[0m: 'match'",
      "\nThe above exception was the direct cause of the following exception:\n",
      "\u001b[0;31mKeyError\u001b[0m                                  Traceback (most recent call last)",
      "Cell \u001b[0;32mIn[49], line 3\u001b[0m\n\u001b[1;32m      1\u001b[0m \u001b[38;5;66;03m#  ───────────────────────── 8. Compare to Whisper baseline ────────────\u001b[39;00m\n\u001b[1;32m      2\u001b[0m \u001b[38;5;66;03m# acoustic baseline macro-F1 from Part-2\u001b[39;00m\n\u001b[0;32m----> 3\u001b[0m base_macro \u001b[38;5;241m=\u001b[39m \u001b[43mpd\u001b[49m\u001b[38;5;241;43m.\u001b[39;49m\u001b[43mread_csv\u001b[49m\u001b[43m(\u001b[49m\u001b[38;5;124;43m\"\u001b[39;49m\u001b[38;5;124;43m../results/whisper_metrics.csv\u001b[39;49m\u001b[38;5;124;43m\"\u001b[39;49m\u001b[43m)\u001b[49m\u001b[43m[\u001b[49m\u001b[38;5;124;43m\"\u001b[39;49m\u001b[38;5;124;43mmatch\u001b[39;49m\u001b[38;5;124;43m\"\u001b[39;49m\u001b[43m]\u001b[49m\u001b[38;5;241m.\u001b[39mmean()\n\u001b[1;32m      4\u001b[0m \u001b[38;5;28mprint\u001b[39m(\u001b[38;5;124mf\u001b[39m\u001b[38;5;124m\"\u001b[39m\u001b[38;5;130;01m\\n\u001b[39;00m\u001b[38;5;124mWhisper+Transformer macro-F1 (Part-2): \u001b[39m\u001b[38;5;132;01m{\u001b[39;00mbase_macro\u001b[38;5;132;01m:\u001b[39;00m\u001b[38;5;124m.3f\u001b[39m\u001b[38;5;132;01m}\u001b[39;00m\u001b[38;5;124m\"\u001b[39m)\n\u001b[1;32m      5\u001b[0m \u001b[38;5;28mprint\u001b[39m(\u001b[38;5;124mf\u001b[39m\u001b[38;5;124m\"\u001b[39m\u001b[38;5;124mLLM macro-F1: \u001b[39m\u001b[38;5;132;01m{\u001b[39;00mmacro\u001b[38;5;132;01m:\u001b[39;00m\u001b[38;5;124m.3f\u001b[39m\u001b[38;5;132;01m}\u001b[39;00m\u001b[38;5;124m\"\u001b[39m)\n",
      "File \u001b[0;32m~/Desktop/advanced pa/advanced-topics-predictive-group-j/venv/lib/python3.9/site-packages/pandas/core/frame.py:4102\u001b[0m, in \u001b[0;36mDataFrame.__getitem__\u001b[0;34m(self, key)\u001b[0m\n\u001b[1;32m   4100\u001b[0m \u001b[38;5;28;01mif\u001b[39;00m \u001b[38;5;28mself\u001b[39m\u001b[38;5;241m.\u001b[39mcolumns\u001b[38;5;241m.\u001b[39mnlevels \u001b[38;5;241m>\u001b[39m \u001b[38;5;241m1\u001b[39m:\n\u001b[1;32m   4101\u001b[0m     \u001b[38;5;28;01mreturn\u001b[39;00m \u001b[38;5;28mself\u001b[39m\u001b[38;5;241m.\u001b[39m_getitem_multilevel(key)\n\u001b[0;32m-> 4102\u001b[0m indexer \u001b[38;5;241m=\u001b[39m \u001b[38;5;28;43mself\u001b[39;49m\u001b[38;5;241;43m.\u001b[39;49m\u001b[43mcolumns\u001b[49m\u001b[38;5;241;43m.\u001b[39;49m\u001b[43mget_loc\u001b[49m\u001b[43m(\u001b[49m\u001b[43mkey\u001b[49m\u001b[43m)\u001b[49m\n\u001b[1;32m   4103\u001b[0m \u001b[38;5;28;01mif\u001b[39;00m is_integer(indexer):\n\u001b[1;32m   4104\u001b[0m     indexer \u001b[38;5;241m=\u001b[39m [indexer]\n",
      "File \u001b[0;32m~/Desktop/advanced pa/advanced-topics-predictive-group-j/venv/lib/python3.9/site-packages/pandas/core/indexes/base.py:3812\u001b[0m, in \u001b[0;36mIndex.get_loc\u001b[0;34m(self, key)\u001b[0m\n\u001b[1;32m   3807\u001b[0m     \u001b[38;5;28;01mif\u001b[39;00m \u001b[38;5;28misinstance\u001b[39m(casted_key, \u001b[38;5;28mslice\u001b[39m) \u001b[38;5;129;01mor\u001b[39;00m (\n\u001b[1;32m   3808\u001b[0m         \u001b[38;5;28misinstance\u001b[39m(casted_key, abc\u001b[38;5;241m.\u001b[39mIterable)\n\u001b[1;32m   3809\u001b[0m         \u001b[38;5;129;01mand\u001b[39;00m \u001b[38;5;28many\u001b[39m(\u001b[38;5;28misinstance\u001b[39m(x, \u001b[38;5;28mslice\u001b[39m) \u001b[38;5;28;01mfor\u001b[39;00m x \u001b[38;5;129;01min\u001b[39;00m casted_key)\n\u001b[1;32m   3810\u001b[0m     ):\n\u001b[1;32m   3811\u001b[0m         \u001b[38;5;28;01mraise\u001b[39;00m InvalidIndexError(key)\n\u001b[0;32m-> 3812\u001b[0m     \u001b[38;5;28;01mraise\u001b[39;00m \u001b[38;5;167;01mKeyError\u001b[39;00m(key) \u001b[38;5;28;01mfrom\u001b[39;00m\u001b[38;5;250m \u001b[39m\u001b[38;5;21;01merr\u001b[39;00m\n\u001b[1;32m   3813\u001b[0m \u001b[38;5;28;01mexcept\u001b[39;00m \u001b[38;5;167;01mTypeError\u001b[39;00m:\n\u001b[1;32m   3814\u001b[0m     \u001b[38;5;66;03m# If we have a listlike key, _check_indexing_error will raise\u001b[39;00m\n\u001b[1;32m   3815\u001b[0m     \u001b[38;5;66;03m#  InvalidIndexError. Otherwise we fall through and re-raise\u001b[39;00m\n\u001b[1;32m   3816\u001b[0m     \u001b[38;5;66;03m#  the TypeError.\u001b[39;00m\n\u001b[1;32m   3817\u001b[0m     \u001b[38;5;28mself\u001b[39m\u001b[38;5;241m.\u001b[39m_check_indexing_error(key)\n",
      "\u001b[0;31mKeyError\u001b[0m: 'match'"
     ]
    }
   ],
   "source": [
    "#  ───────────────────────── 8. Compare to Whisper baseline ────────────\n",
    "# acoustic baseline macro-F1 from Part-2\n",
    "base_macro = pd.read_csv(\"../results/whisper_metrics.csv\")[\"macro_f1\"].iloc[0]\n",
    "print(f\"\\nWhisper+Transformer macro-F1 (Part-2): {base_macro:.3f}\")\n",
    "print(f\"LLM macro-F1: {macro:.3f}\")\n",
    "plt.bar([\"Acoustic\", \"LLM\"], [base_macro, macro], color=[\"#5DA5DA\",\"#F17CB0\"])\n",
    "for i,v in enumerate([base_macro, macro]):\n",
    "    plt.text(i, v+0.01, f\"{v:.2f}\", ha=\"center\")\n",
    "plt.ylim(0,1); plt.ylabel(\"Macro-F1\"); plt.title(\"Baseline comparison\"); plt.tight_layout()\n",
    "plt.show()"
   ]
  }
 ],
 "metadata": {
  "kernelspec": {
   "display_name": "venv",
   "language": "python",
   "name": "python3"
  },
  "language_info": {
   "codemirror_mode": {
    "name": "ipython",
    "version": 3
   },
   "file_extension": ".py",
   "mimetype": "text/x-python",
   "name": "python",
   "nbconvert_exporter": "python",
   "pygments_lexer": "ipython3",
   "version": "3.9.6"
  }
 },
 "nbformat": 4,
 "nbformat_minor": 2
}
